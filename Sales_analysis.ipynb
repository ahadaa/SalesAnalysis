{
 "cells": [
  {
   "cell_type": "markdown",
   "id": "d885b0b3",
   "metadata": {},
   "source": [
    "## We import necessary  library"
   ]
  },
  {
   "cell_type": "code",
   "execution_count": 1,
   "id": "af654ea5",
   "metadata": {},
   "outputs": [],
   "source": [
    "import numpy as np\n",
    "import pandas as pd\n",
    "import matplotlib.pyplot as plt\n",
    "import seaborn as sns"
   ]
  },
  {
   "cell_type": "markdown",
   "id": "d4a6a302",
   "metadata": {},
   "source": [
    "## Read the file to view the data inside it"
   ]
  },
  {
   "cell_type": "code",
   "execution_count": 2,
   "id": "0b93d6b3",
   "metadata": {},
   "outputs": [],
   "source": [
    "df = pd.read_excel(\"ana.xlsx\", parse_dates=True)"
   ]
  },
  {
   "cell_type": "code",
   "execution_count": 3,
   "id": "f95dffcd",
   "metadata": {},
   "outputs": [
    {
     "name": "stdout",
     "output_type": "stream",
     "text": [
      "<class 'pandas.core.frame.DataFrame'>\n",
      "RangeIndex: 7560 entries, 0 to 7559\n",
      "Data columns (total 6 columns):\n",
      " #   Column  Non-Null Count  Dtype         \n",
      "---  ------  --------------  -----         \n",
      " 0   Date    7560 non-null   datetime64[ns]\n",
      " 1   Time    7560 non-null   object        \n",
      " 2   State   7560 non-null   object        \n",
      " 3   Group   7560 non-null   object        \n",
      " 4   Unit    7560 non-null   int64         \n",
      " 5   Sales   7560 non-null   int64         \n",
      "dtypes: datetime64[ns](1), int64(2), object(3)\n",
      "memory usage: 354.5+ KB\n"
     ]
    }
   ],
   "source": [
    "df.info()"
   ]
  },
  {
   "cell_type": "code",
   "execution_count": 4,
   "id": "600dd7c0",
   "metadata": {},
   "outputs": [
    {
     "data": {
      "text/html": [
       "<div>\n",
       "<style scoped>\n",
       "    .dataframe tbody tr th:only-of-type {\n",
       "        vertical-align: middle;\n",
       "    }\n",
       "\n",
       "    .dataframe tbody tr th {\n",
       "        vertical-align: top;\n",
       "    }\n",
       "\n",
       "    .dataframe thead th {\n",
       "        text-align: right;\n",
       "    }\n",
       "</style>\n",
       "<table border=\"1\" class=\"dataframe\">\n",
       "  <thead>\n",
       "    <tr style=\"text-align: right;\">\n",
       "      <th></th>\n",
       "      <th>Date</th>\n",
       "      <th>Time</th>\n",
       "      <th>State</th>\n",
       "      <th>Group</th>\n",
       "      <th>Unit</th>\n",
       "      <th>Sales</th>\n",
       "    </tr>\n",
       "  </thead>\n",
       "  <tbody>\n",
       "    <tr>\n",
       "      <th>0</th>\n",
       "      <td>2020-10-01</td>\n",
       "      <td>Morning</td>\n",
       "      <td>WA</td>\n",
       "      <td>Kids</td>\n",
       "      <td>8</td>\n",
       "      <td>20000</td>\n",
       "    </tr>\n",
       "    <tr>\n",
       "      <th>1</th>\n",
       "      <td>2020-10-01</td>\n",
       "      <td>Morning</td>\n",
       "      <td>WA</td>\n",
       "      <td>Men</td>\n",
       "      <td>8</td>\n",
       "      <td>20000</td>\n",
       "    </tr>\n",
       "    <tr>\n",
       "      <th>2</th>\n",
       "      <td>2020-10-01</td>\n",
       "      <td>Morning</td>\n",
       "      <td>WA</td>\n",
       "      <td>Women</td>\n",
       "      <td>4</td>\n",
       "      <td>10000</td>\n",
       "    </tr>\n",
       "    <tr>\n",
       "      <th>3</th>\n",
       "      <td>2020-10-01</td>\n",
       "      <td>Morning</td>\n",
       "      <td>WA</td>\n",
       "      <td>Seniors</td>\n",
       "      <td>15</td>\n",
       "      <td>37500</td>\n",
       "    </tr>\n",
       "    <tr>\n",
       "      <th>4</th>\n",
       "      <td>2020-10-01</td>\n",
       "      <td>Afternoon</td>\n",
       "      <td>WA</td>\n",
       "      <td>Kids</td>\n",
       "      <td>3</td>\n",
       "      <td>7500</td>\n",
       "    </tr>\n",
       "  </tbody>\n",
       "</table>\n",
       "</div>"
      ],
      "text/plain": [
       "        Date        Time State     Group  Unit  Sales\n",
       "0 2020-10-01     Morning    WA      Kids     8  20000\n",
       "1 2020-10-01     Morning    WA       Men     8  20000\n",
       "2 2020-10-01     Morning    WA     Women     4  10000\n",
       "3 2020-10-01     Morning    WA   Seniors    15  37500\n",
       "4 2020-10-01   Afternoon    WA      Kids     3   7500"
      ]
     },
     "execution_count": 4,
     "metadata": {},
     "output_type": "execute_result"
    }
   ],
   "source": [
    "df.head()"
   ]
  },
  {
   "cell_type": "code",
   "execution_count": 5,
   "id": "9fa897bf",
   "metadata": {},
   "outputs": [
    {
     "name": "stdout",
     "output_type": "stream",
     "text": [
      "<class 'pandas.core.frame.DataFrame'>\n",
      "RangeIndex: 7560 entries, 0 to 7559\n",
      "Data columns (total 6 columns):\n",
      " #   Column  Non-Null Count  Dtype         \n",
      "---  ------  --------------  -----         \n",
      " 0   Date    7560 non-null   datetime64[ns]\n",
      " 1   Time    7560 non-null   object        \n",
      " 2   State   7560 non-null   object        \n",
      " 3   Group   7560 non-null   object        \n",
      " 4   Unit    7560 non-null   int64         \n",
      " 5   Sales   7560 non-null   int64         \n",
      "dtypes: datetime64[ns](1), int64(2), object(3)\n",
      "memory usage: 354.5+ KB\n"
     ]
    }
   ],
   "source": [
    "df.info()"
   ]
  },
  {
   "cell_type": "markdown",
   "id": "ba665a8d",
   "metadata": {},
   "source": [
    "## Data Wrangling"
   ]
  },
  {
   "cell_type": "markdown",
   "id": "1dc810b8",
   "metadata": {},
   "source": [
    "## Ensure that the data is clean and that there is no missing or incorrect data. "
   ]
  },
  {
   "cell_type": "code",
   "execution_count": 6,
   "id": "1b3b1b78",
   "metadata": {},
   "outputs": [
    {
     "data": {
      "text/plain": [
       "array([' Morning', ' Afternoon', ' Evening'], dtype=object)"
      ]
     },
     "execution_count": 6,
     "metadata": {},
     "output_type": "execute_result"
    }
   ],
   "source": [
    "df['Time'].unique()"
   ]
  },
  {
   "cell_type": "code",
   "execution_count": 7,
   "id": "d44c3f86",
   "metadata": {},
   "outputs": [],
   "source": [
    "df['Time'] = df['Time'].str.replace(' ','')"
   ]
  },
  {
   "cell_type": "code",
   "execution_count": 8,
   "id": "fee641f6",
   "metadata": {},
   "outputs": [
    {
     "data": {
      "text/plain": [
       "array(['Morning', 'Afternoon', 'Evening'], dtype=object)"
      ]
     },
     "execution_count": 8,
     "metadata": {},
     "output_type": "execute_result"
    }
   ],
   "source": [
    "df['Time'].unique()"
   ]
  },
  {
   "cell_type": "code",
   "execution_count": 9,
   "id": "80ff3932",
   "metadata": {},
   "outputs": [
    {
     "data": {
      "text/plain": [
       "array([' WA', ' NT', ' SA', ' VIC', ' QLD', ' NSW', ' TAS'], dtype=object)"
      ]
     },
     "execution_count": 9,
     "metadata": {},
     "output_type": "execute_result"
    }
   ],
   "source": [
    "df['State'].unique()"
   ]
  },
  {
   "cell_type": "code",
   "execution_count": 10,
   "id": "4278e17c",
   "metadata": {},
   "outputs": [],
   "source": [
    "df['State'] = df['State'].str.replace(' ','')"
   ]
  },
  {
   "cell_type": "code",
   "execution_count": 11,
   "id": "5435a174",
   "metadata": {},
   "outputs": [
    {
     "data": {
      "text/plain": [
       "array(['WA', 'NT', 'SA', 'VIC', 'QLD', 'NSW', 'TAS'], dtype=object)"
      ]
     },
     "execution_count": 11,
     "metadata": {},
     "output_type": "execute_result"
    }
   ],
   "source": [
    "df['State'].unique()"
   ]
  },
  {
   "cell_type": "code",
   "execution_count": 12,
   "id": "4edac3b6",
   "metadata": {},
   "outputs": [
    {
     "data": {
      "text/plain": [
       "array([' Kids', ' Men', ' Women', ' Seniors'], dtype=object)"
      ]
     },
     "execution_count": 12,
     "metadata": {},
     "output_type": "execute_result"
    }
   ],
   "source": [
    "df['Group'].unique()"
   ]
  },
  {
   "cell_type": "code",
   "execution_count": 13,
   "id": "7e9d9ae7",
   "metadata": {},
   "outputs": [],
   "source": [
    "df['Group'] = df['Group'].str.replace(' ','')"
   ]
  },
  {
   "cell_type": "code",
   "execution_count": 14,
   "id": "78b4569f",
   "metadata": {},
   "outputs": [
    {
     "data": {
      "text/plain": [
       "array(['Kids', 'Men', 'Women', 'Seniors'], dtype=object)"
      ]
     },
     "execution_count": 14,
     "metadata": {},
     "output_type": "execute_result"
    }
   ],
   "source": [
    "df['Group'].unique()"
   ]
  },
  {
   "cell_type": "markdown",
   "id": "e79dbb59",
   "metadata": {},
   "source": [
    "## Data Analysis"
   ]
  },
  {
   "cell_type": "markdown",
   "id": "6d32b92b",
   "metadata": {},
   "source": [
    "## 1_Perform descriptive statistical analysis on the data "
   ]
  },
  {
   "cell_type": "code",
   "execution_count": 15,
   "id": "03db0d76",
   "metadata": {},
   "outputs": [
    {
     "name": "stdout",
     "output_type": "stream",
     "text": [
      "           Date       Time State    Group  Unit  Sales  SalesNorm  UnitNorm\n",
      "0    2020-10-01    Morning    WA     Kids     8  20000   0.095238  0.095238\n",
      "1    2020-10-01    Morning    WA      Men     8  20000   0.095238  0.095238\n",
      "2    2020-10-01    Morning    WA    Women     4  10000   0.031746  0.031746\n",
      "3    2020-10-01    Morning    WA  Seniors    15  37500   0.206349  0.206349\n",
      "4    2020-10-01  Afternoon    WA     Kids     3   7500   0.015873  0.015873\n",
      "...         ...        ...   ...      ...   ...    ...        ...       ...\n",
      "7555 2020-12-30  Afternoon   TAS  Seniors    14  35000   0.190476  0.190476\n",
      "7556 2020-12-30    Evening   TAS     Kids    15  37500   0.206349  0.206349\n",
      "7557 2020-12-30    Evening   TAS      Men    15  37500   0.206349  0.206349\n",
      "7558 2020-12-30    Evening   TAS    Women    11  27500   0.142857  0.142857\n",
      "7559 2020-12-30    Evening   TAS  Seniors    13  32500   0.174603  0.174603\n",
      "\n",
      "[7560 rows x 8 columns]\n"
     ]
    }
   ],
   "source": [
    "from sklearn.preprocessing import MinMaxScaler\n",
    "\n",
    "# Create a MinMaxScaler instance\n",
    "scaler = MinMaxScaler()\n",
    "\n",
    "# Fit and transform the data (X) to the [0, 1] range\n",
    "df[[\"SalesNorm\",\"UnitNorm\"]] = scaler.fit_transform(df[[\"Sales\",\"Unit\"]].to_numpy())\n",
    "print(df)"
   ]
  },
  {
   "cell_type": "code",
   "execution_count": 16,
   "id": "dea0e54d",
   "metadata": {},
   "outputs": [
    {
     "data": {
      "text/html": [
       "<div>\n",
       "<style scoped>\n",
       "    .dataframe tbody tr th:only-of-type {\n",
       "        vertical-align: middle;\n",
       "    }\n",
       "\n",
       "    .dataframe tbody tr th {\n",
       "        vertical-align: top;\n",
       "    }\n",
       "\n",
       "    .dataframe thead th {\n",
       "        text-align: right;\n",
       "    }\n",
       "</style>\n",
       "<table border=\"1\" class=\"dataframe\">\n",
       "  <thead>\n",
       "    <tr style=\"text-align: right;\">\n",
       "      <th></th>\n",
       "      <th>Unit</th>\n",
       "      <th>Sales</th>\n",
       "      <th>SalesNorm</th>\n",
       "      <th>UnitNorm</th>\n",
       "    </tr>\n",
       "  </thead>\n",
       "  <tbody>\n",
       "    <tr>\n",
       "      <th>count</th>\n",
       "      <td>7560.000000</td>\n",
       "      <td>7560.000000</td>\n",
       "      <td>7560.000000</td>\n",
       "      <td>7560.000000</td>\n",
       "    </tr>\n",
       "    <tr>\n",
       "      <th>mean</th>\n",
       "      <td>18.005423</td>\n",
       "      <td>45013.558201</td>\n",
       "      <td>0.254054</td>\n",
       "      <td>0.254054</td>\n",
       "    </tr>\n",
       "    <tr>\n",
       "      <th>std</th>\n",
       "      <td>12.901403</td>\n",
       "      <td>32253.506944</td>\n",
       "      <td>0.204784</td>\n",
       "      <td>0.204784</td>\n",
       "    </tr>\n",
       "    <tr>\n",
       "      <th>min</th>\n",
       "      <td>2.000000</td>\n",
       "      <td>5000.000000</td>\n",
       "      <td>0.000000</td>\n",
       "      <td>0.000000</td>\n",
       "    </tr>\n",
       "    <tr>\n",
       "      <th>25%</th>\n",
       "      <td>8.000000</td>\n",
       "      <td>20000.000000</td>\n",
       "      <td>0.095238</td>\n",
       "      <td>0.095238</td>\n",
       "    </tr>\n",
       "    <tr>\n",
       "      <th>50%</th>\n",
       "      <td>14.000000</td>\n",
       "      <td>35000.000000</td>\n",
       "      <td>0.190476</td>\n",
       "      <td>0.190476</td>\n",
       "    </tr>\n",
       "    <tr>\n",
       "      <th>75%</th>\n",
       "      <td>26.000000</td>\n",
       "      <td>65000.000000</td>\n",
       "      <td>0.380952</td>\n",
       "      <td>0.380952</td>\n",
       "    </tr>\n",
       "    <tr>\n",
       "      <th>max</th>\n",
       "      <td>65.000000</td>\n",
       "      <td>162500.000000</td>\n",
       "      <td>1.000000</td>\n",
       "      <td>1.000000</td>\n",
       "    </tr>\n",
       "  </tbody>\n",
       "</table>\n",
       "</div>"
      ],
      "text/plain": [
       "              Unit          Sales    SalesNorm     UnitNorm\n",
       "count  7560.000000    7560.000000  7560.000000  7560.000000\n",
       "mean     18.005423   45013.558201     0.254054     0.254054\n",
       "std      12.901403   32253.506944     0.204784     0.204784\n",
       "min       2.000000    5000.000000     0.000000     0.000000\n",
       "25%       8.000000   20000.000000     0.095238     0.095238\n",
       "50%      14.000000   35000.000000     0.190476     0.190476\n",
       "75%      26.000000   65000.000000     0.380952     0.380952\n",
       "max      65.000000  162500.000000     1.000000     1.000000"
      ]
     },
     "execution_count": 16,
     "metadata": {},
     "output_type": "execute_result"
    }
   ],
   "source": [
    "df.describe()"
   ]
  },
  {
   "cell_type": "code",
   "execution_count": 17,
   "id": "3213b8ff",
   "metadata": {},
   "outputs": [
    {
     "data": {
      "text/plain": [
       "(0    0.111111\n",
       " Name: SalesNorm, dtype: float64,\n",
       " 0    22500\n",
       " Name: Sales, dtype: int64)"
      ]
     },
     "execution_count": 17,
     "metadata": {},
     "output_type": "execute_result"
    }
   ],
   "source": [
    "(df.SalesNorm.mode(), df.Sales.mode())"
   ]
  },
  {
   "cell_type": "code",
   "execution_count": 18,
   "id": "a04cddd3",
   "metadata": {},
   "outputs": [
    {
     "data": {
      "text/plain": [
       "(0    0.111111\n",
       " Name: UnitNorm, dtype: float64,\n",
       " 0    9\n",
       " Name: Unit, dtype: int64)"
      ]
     },
     "execution_count": 18,
     "metadata": {},
     "output_type": "execute_result"
    }
   ],
   "source": [
    "(df.UnitNorm.mode(), df.Unit.mode())"
   ]
  },
  {
   "cell_type": "markdown",
   "id": "b8679102",
   "metadata": {},
   "source": [
    "## 2_Determine which group the highest sales, and which is the lowest sales"
   ]
  },
  {
   "cell_type": "code",
   "execution_count": 27,
   "id": "f11269a5",
   "metadata": {},
   "outputs": [],
   "source": [
    "Max_sales=df.groupby(\"Sales\")"
   ]
  },
  {
   "cell_type": "code",
   "execution_count": 28,
   "id": "cb3bf433",
   "metadata": {},
   "outputs": [
    {
     "name": "stdout",
     "output_type": "stream",
     "text": [
      "The highest sales is Sales    162500\n",
      "Group     Women\n",
      "dtype: object\n",
      "The lowest sales is Sales    5000\n",
      "Group     Men\n",
      "dtype: object\n"
     ]
    },
    {
     "name": "stderr",
     "output_type": "stream",
     "text": [
      "C:\\Users\\TOSHIBA\\AppData\\Local\\Temp\\ipykernel_9784\\1986186122.py:1: FutureWarning: Indexing with multiple keys (implicitly converted to a tuple of keys) will be deprecated, use a list instead.\n",
      "  sales_group = Max_sales['Sales','Group'].max()\n"
     ]
    }
   ],
   "source": [
    "sales_group = Max_sales['Sales','Group'].max()\n",
    "print(f\"The highest sales is {sales_group.max()}\")\n",
    "print(f\"The lowest sales is {sales_group.min()}\")"
   ]
  },
  {
   "cell_type": "markdown",
   "id": "ddb50d55",
   "metadata": {},
   "source": [
    "## 3_Determine which state is the highest sales, and which is the lowest sales."
   ]
  },
  {
   "cell_type": "code",
   "execution_count": 29,
   "id": "7b742ece",
   "metadata": {},
   "outputs": [
    {
     "name": "stdout",
     "output_type": "stream",
     "text": [
      "The highest sales is Sales    162500\n",
      "State        WA\n",
      "dtype: object\n",
      "The lowest sales is Sales    5000\n",
      "State      SA\n",
      "dtype: object\n"
     ]
    },
    {
     "name": "stderr",
     "output_type": "stream",
     "text": [
      "C:\\Users\\TOSHIBA\\AppData\\Local\\Temp\\ipykernel_9784\\2587944993.py:1: FutureWarning: Indexing with multiple keys (implicitly converted to a tuple of keys) will be deprecated, use a list instead.\n",
      "  sales_state = Max_sales['Sales','State'].max()\n"
     ]
    }
   ],
   "source": [
    "sales_state = Max_sales['Sales','State'].max()\n",
    "print(f\"The highest sales is {sales_state.max()}\")\n",
    "print(f\"The lowest sales is {sales_state.min()}\")"
   ]
  },
  {
   "cell_type": "markdown",
   "id": "bc823072",
   "metadata": {},
   "source": [
    "## 4_ Weekly, monthly and quarterly reports for the analysis made."
   ]
  },
  {
   "cell_type": "code",
   "execution_count": 23,
   "id": "d9044784",
   "metadata": {},
   "outputs": [
    {
     "data": {
      "image/png": "[encoded data removed]",
      "text/plain": [
       "<Figure size 1200x600 with 1 Axes>"
      ]
     },
     "metadata": {},
     "output_type": "display_data"
    }
   ],
   "source": [
    "an = pd.DataFrame({'Date': pd.date_range(start='2023-01-01', periods=365, freq='D'),\n",
    "                     'Value': [i for i in range(1, 366)]})\n",
    "an.set_index('Date', inplace=True)\n",
    "monthly_data = an.resample('M').sum()\n",
    "\n",
    "sns.set(style=\"whitegrid\")\n",
    "plt.figure(figsize=(12, 6))\n",
    "sns.lineplot(data=monthly_data, x=monthly_data.index, y=\"Value\")\n",
    "plt.title(\"Monthly Data Visualization\")\n",
    "plt.show()"
   ]
  },
  {
   "cell_type": "markdown",
   "id": "297ffad5",
   "metadata": {},
   "source": [
    "## Data Visualization"
   ]
  },
  {
   "cell_type": "markdown",
   "id": "edf01334",
   "metadata": {},
   "source": [
    "## 1_State-wise sales analysis "
   ]
  },
  {
   "cell_type": "code",
   "execution_count": 22,
   "id": "d660867c",
   "metadata": {},
   "outputs": [
    {
     "data": {
      "image/png": "[encoded data removed]",
      "text/plain": [
       "<Figure size 1200x600 with 1 Axes>"
      ]
     },
     "metadata": {},
     "output_type": "display_data"
    }
   ],
   "source": [
    "# Create a bar plot to visualize group-wise sales analysis across different states\n",
    "plt.figure(figsize=(12, 6))\n",
    "sns.barplot(x='State', y='Sales', hue='Group', data=df, ci=None)\n",
    "plt.title('Group-wise Sales Analysis Across Different States')\n",
    "plt.xlabel('State')\n",
    "plt.ylabel('Sales')\n",
    "plt.xticks(rotation=45)  # Rotate x-axis labels for better readability\n",
    "plt.legend(title='Group')\n",
    "plt.show()"
   ]
  },
  {
   "cell_type": "markdown",
   "id": "f05e1f08",
   "metadata": {},
   "source": [
    "## 2_Group-wise sales analysis "
   ]
  },
  {
   "cell_type": "code",
   "execution_count": 21,
   "id": "476f2410",
   "metadata": {},
   "outputs": [
    {
     "data": {
      "image/png": "[encoded data removed]",
      "text/plain": [
       "<Figure size 1200x600 with 1 Axes>"
      ]
     },
     "metadata": {},
     "output_type": "display_data"
    }
   ],
   "source": [
    "# Create a bar plot to visualize group-wise sales analysis across different states\n",
    "plt.figure(figsize=(12, 6))\n",
    "sns.barplot(x='Group', y='Sales', hue='State', data=df, ci=None)\n",
    "plt.title('Group-wise Sales Analysis Across Different States')\n",
    "plt.xlabel('Group')\n",
    "plt.ylabel('Sales')\n",
    "plt.xticks(rotation=45)  # Rotate x-axis labels for better readability\n",
    "plt.legend(title='States')\n",
    "plt.show()\n"
   ]
  },
  {
   "cell_type": "markdown",
   "id": "f929f364",
   "metadata": {},
   "source": [
    "## 3 _Time of the day analysis"
   ]
  },
  {
   "cell_type": "code",
   "execution_count": 20,
   "id": "8f12de80",
   "metadata": {},
   "outputs": [
    {
     "data": {
      "text/plain": [
       "<AxesSubplot:xlabel='Time'>"
      ]
     },
     "execution_count": 20,
     "metadata": {},
     "output_type": "execute_result"
    },
    {
     "data": {
      "image/png": "[encoded data removed]",
      "text/plain": [
       "<Figure size 640x480 with 1 Axes>"
      ]
     },
     "metadata": {},
     "output_type": "display_data"
    }
   ],
   "source": [
    "df.groupby(\"Time\")[\"Sales\"].mean().plot(kind = 'bar', color = ['orchid'])"
   ]
  },
  {
   "cell_type": "markdown",
   "id": "bc1b923e",
   "metadata": {},
   "source": [
    "## Thank you"
   ]
  }
 ],
 "metadata": {
  "kernelspec": {
   "display_name": "Python 3 (ipykernel)",
   "language": "python",
   "name": "python3"
  },
  "language_info": {
   "codemirror_mode": {
    "name": "ipython",
    "version": 3
   },
   "file_extension": ".py",
   "mimetype": "text/x-python",
   "name": "python",
   "nbconvert_exporter": "python",
   "pygments_lexer": "ipython3",
   "version": "3.9.13"
  }
 },
 "nbformat": 4,
 "nbformat_minor": 5
}
